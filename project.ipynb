{
  "cells": [
    {
      "cell_type": "code",
      "execution_count": null,
      "metadata": {
        "colab": {
          "base_uri": "https://localhost:8080/"
        },
        "id": "66ZFP7E0v6Gu",
        "outputId": "7742844b-e382-4523-8115-7a7dea4d57ab"
      },
      "outputs": [
        {
          "output_type": "stream",
          "name": "stdout",
          "text": [
            "Director Name        : Andrew Stanton\n",
            "Actor Name           : Daryl Sabara\n",
            "Genre                : Action|Adventure|Sci-Fi\n",
            "IMDB Rating          : 6.6\n",
            "Budget               : 263700000\n",
            "Gross                : 73058679\n",
            "Profit Percentage   : -0.722947747\n",
            "                           FLOP\n",
            "                             ACCURACY: 0.8985\n",
            "\n"
          ]
        },
        {
          "output_type": "stream",
          "name": "stderr",
          "text": [
            "/usr/local/lib/python3.10/dist-packages/sklearn/base.py:439: UserWarning: X does not have valid feature names, but StandardScaler was fitted with feature names\n",
            "  warnings.warn(\n",
            "<__array_function__ internals>:180: VisibleDeprecationWarning: Creating an ndarray from ragged nested sequences (which is a list-or-tuple of lists-or-tuples-or ndarrays with different lengths or shapes) is deprecated. If you meant to do this, you must specify 'dtype=object' when creating the ndarray.\n"
          ]
        }
      ],
      "source": [
        "\n",
        "import numpy as np\n",
        "import matplotlib.pyplot as plt\n",
        "import pandas as pd\n",
        "\n",
        "\n",
        "#Importing the data set\n",
        "dataset = pd.read_csv(\"/content/datasetfinal.csv\")\n",
        "\n",
        "\n",
        "X = dataset.iloc[:, :-1].values #loc/iloc\n",
        "y = dataset.iloc[:, 11].values\n",
        "\n",
        "\n",
        "from sklearn.preprocessing import LabelEncoder, OneHotEncoder\n",
        "number = LabelEncoder()\n",
        "nameencoder=LabelEncoder()\n",
        "actor1encoder=LabelEncoder()\n",
        "actor2encoder=LabelEncoder()\n",
        "actor3encoder=LabelEncoder()\n",
        "genresencoder=LabelEncoder()\n",
        "imdbscoreencoder=LabelEncoder()\n",
        "budgetencoder=LabelEncoder()\n",
        "grossencoder=LabelEncoder()\n",
        "profitencoder =LabelEncoder()\n",
        "\n",
        "\n",
        "dataset['director_name'] = nameencoder.fit_transform(dataset['director_name'])\n",
        "dataset['actor_1_name'] = actor1encoder.fit_transform(dataset['actor_1_name'])\n",
        "dataset['actor_2_name'] = actor2encoder.fit_transform(dataset['actor_2_name'].astype(str))\n",
        "dataset['actor_3_name'] = actor3encoder.fit_transform(dataset['actor_3_name'].astype(str))\n",
        "dataset['genres'] = genresencoder.fit_transform(dataset['genres'])\n",
        "\n",
        "\n",
        "features = [\"director_name\", \"actor_1_name\", \"genres\",\"imdb_score\",\"budget\",\"gross\",\"profit_percent\"]\n",
        "\n",
        "labelencoder_y = LabelEncoder()\n",
        "y = labelencoder_y.fit_transform(y)\n",
        "\n",
        "\n",
        "from sklearn.model_selection import train_test_split\n",
        "\n",
        "X_train, X_test, y_train, y_test = train_test_split(dataset[features], y, test_size = 0.2, random_state = 0)\n",
        "\n",
        "\n",
        "\n",
        "from sklearn.preprocessing import StandardScaler\n",
        "scaler = StandardScaler()\n",
        "X_train = scaler.fit_transform(X_train)\n",
        "X_test = scaler.transform(X_test)\n",
        "\n",
        "model = GaussianNB()\n",
        "\n",
        "model.fit(X_train, y_train)\n",
        "\n",
        "nb_predict_train = model.predict(X_test)\n",
        "\n",
        "from sklearn import metrics\n",
        "\n",
        "\n",
        "\n",
        "\n",
        "\n",
        "\n",
        "actor_name= input(\"Director Name        : \")\n",
        "director_name= input(\"Actor Name           : \")\n",
        "genre= input(\"Genre                : \")\n",
        "imdb_rating= float(input(\"IMDB Rating          : \"))\n",
        "budget= float(input(\"Budget               : \"))\n",
        "gross= float(input(\"Gross                : \"))\n",
        "profit_percent= float(input(\"Profit Percentage   : \"))\n",
        "\n",
        "\n",
        "predict=[actor_name,director_name,genre,imdb_rating,budget,gross,profit_percent]\n",
        "\n",
        "predict[0]=nameencoder.transform([predict[0]])\n",
        "predict[1]=actor1encoder.transform([predict[1]])\n",
        "predict[2]= genresencoder.transform([predict[2]])\n",
        "\n",
        "\n",
        "predict = scaler.transform([predict])\n",
        "prediction = model.predict(predict)\n",
        "\n",
        "\n",
        "if prediction == 1:\n",
        "    print(\"                           HIT\")\n",
        "else:\n",
        "    print(\"                           FLOP\")\n",
        "\n",
        "\n",
        "\n",
        "print(\"                             ACCURACY: {0:.4f}\".format(metrics.accuracy_score(y_test, nb_predict_train)))\n",
        "print()"
      ]
    },
    {
      "cell_type": "code",
      "source": [],
      "metadata": {
        "id": "zj4qcAHHyMDm"
      },
      "execution_count": null,
      "outputs": []
    },
    {
      "cell_type": "code",
      "execution_count": null,
      "metadata": {
        "id": "uQso2cGdv6G4"
      },
      "outputs": [],
      "source": [
        "\n"
      ]
    }
  ],
  "metadata": {
    "kernelspec": {
      "display_name": "Python 3",
      "language": "python",
      "name": "python3"
    },
    "language_info": {
      "codemirror_mode": {
        "name": "ipython",
        "version": 3
      },
      "file_extension": ".py",
      "mimetype": "text/x-python",
      "name": "python",
      "nbconvert_exporter": "python",
      "pygments_lexer": "ipython3",
      "version": "3.7.0"
    },
    "colab": {
      "provenance": []
    }
  },
  "nbformat": 4,
  "nbformat_minor": 0
}